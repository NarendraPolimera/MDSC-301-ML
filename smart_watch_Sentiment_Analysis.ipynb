{
  "nbformat": 4,
  "nbformat_minor": 0,
  "metadata": {
    "colab": {
      "provenance": [],
      "collapsed_sections": [],
      "mount_file_id": "1yrAhBPHvnSkUkDc2Gn4CKQHyLsrMG65D",
      "authorship_tag": "ABX9TyP4sm5KBP8dykL3EAU9LEyv",
      "include_colab_link": true
    },
    "kernelspec": {
      "name": "python3",
      "display_name": "Python 3"
    },
    "language_info": {
      "name": "python"
    }
  },
  "cells": [
    {
      "cell_type": "markdown",
      "metadata": {
        "id": "view-in-github",
        "colab_type": "text"
      },
      "source": [
        "<a href=\"https://colab.research.google.com/github/NarendraPolimera/MDSC-301-ML/blob/main/smart_watch_Sentiment_Analysis.ipynb\" target=\"_parent\"><img src=\"https://colab.research.google.com/assets/colab-badge.svg\" alt=\"Open In Colab\"/></a>"
      ]
    },
    {
      "cell_type": "code",
      "execution_count": 189,
      "metadata": {
        "colab": {
          "base_uri": "https://localhost:8080/"
        },
        "id": "A-7I9BsdaJJ6",
        "outputId": "50234c3f-69e1-4169-dafc-345bdad4f941"
      },
      "outputs": [
        {
          "output_type": "stream",
          "name": "stdout",
          "text": [
            "Drive already mounted at /content/drive; to attempt to forcibly remount, call drive.mount(\"/content/drive\", force_remount=True).\n"
          ]
        }
      ],
      "source": [
        "import pandas as pd\n",
        "import numpy as np\n",
        "from google.colab import drive\n",
        "drive.mount(f'/content/drive')"
      ]
    },
    {
      "cell_type": "code",
      "source": [
        "data = pd.read_csv('/content/drive/MyDrive/MDSC-301-ML_Practical/data sets/boAt Wave Call Smart Watch Smart Talk with Advanced Dedicated Bluetooth Calling Chip_raw.csv')"
      ],
      "metadata": {
        "id": "ZDnvLkrAbuYn"
      },
      "execution_count": 190,
      "outputs": []
    },
    {
      "cell_type": "markdown",
      "source": [
        "## EDA"
      ],
      "metadata": {
        "id": "8GLdOQXVEiWv"
      }
    },
    {
      "cell_type": "code",
      "source": [
        "data.head()"
      ],
      "metadata": {
        "colab": {
          "base_uri": "https://localhost:8080/",
          "height": 206
        },
        "id": "P2Y7XQ64b8U_",
        "outputId": "b51ef5ac-ac46-43cf-a7ef-b3a81111018a"
      },
      "execution_count": 191,
      "outputs": [
        {
          "output_type": "execute_result",
          "data": {
            "text/plain": [
              "                 Names  stars  \\\n",
              "0                   AV      4   \n",
              "1  Durga mani kartheek      4   \n",
              "2            Mihika a.      4   \n",
              "3        Neeraj Maurya      4   \n",
              "4               aditya      4   \n",
              "\n",
              "                                       Review_header  \\\n",
              "0      Not Polished Enough. (Improving with updates)   \n",
              "1  One of the best build quality of this price range   \n",
              "2       They didn't send the charger with the watch.   \n",
              "3  This is nice but whenever connected through BT...   \n",
              "4                 Good in comparison with Fireboltt.   \n",
              "\n",
              "                                             reviews  \n",
              "0  [Update: Sept 29] boAt seems to have heard the...  \n",
              "1  The heart rate sensor is 90% to 85% accurateI ...  \n",
              "2  Boat smart watch is good but I didn't get the ...  \n",
              "3  This is nice in that price cap. but I think sh...  \n",
              "4  Used fireboltt watch but was not satisfied wit...  "
            ],
            "text/html": [
              "\n",
              "  <div id=\"df-762ca0e4-27a0-426e-859a-2059d649830c\">\n",
              "    <div class=\"colab-df-container\">\n",
              "      <div>\n",
              "<style scoped>\n",
              "    .dataframe tbody tr th:only-of-type {\n",
              "        vertical-align: middle;\n",
              "    }\n",
              "\n",
              "    .dataframe tbody tr th {\n",
              "        vertical-align: top;\n",
              "    }\n",
              "\n",
              "    .dataframe thead th {\n",
              "        text-align: right;\n",
              "    }\n",
              "</style>\n",
              "<table border=\"1\" class=\"dataframe\">\n",
              "  <thead>\n",
              "    <tr style=\"text-align: right;\">\n",
              "      <th></th>\n",
              "      <th>Names</th>\n",
              "      <th>stars</th>\n",
              "      <th>Review_header</th>\n",
              "      <th>reviews</th>\n",
              "    </tr>\n",
              "  </thead>\n",
              "  <tbody>\n",
              "    <tr>\n",
              "      <th>0</th>\n",
              "      <td>AV</td>\n",
              "      <td>4</td>\n",
              "      <td>Not Polished Enough. (Improving with updates)</td>\n",
              "      <td>[Update: Sept 29] boAt seems to have heard the...</td>\n",
              "    </tr>\n",
              "    <tr>\n",
              "      <th>1</th>\n",
              "      <td>Durga mani kartheek</td>\n",
              "      <td>4</td>\n",
              "      <td>One of the best build quality of this price range</td>\n",
              "      <td>The heart rate sensor is 90% to 85% accurateI ...</td>\n",
              "    </tr>\n",
              "    <tr>\n",
              "      <th>2</th>\n",
              "      <td>Mihika a.</td>\n",
              "      <td>4</td>\n",
              "      <td>They didn't send the charger with the watch.</td>\n",
              "      <td>Boat smart watch is good but I didn't get the ...</td>\n",
              "    </tr>\n",
              "    <tr>\n",
              "      <th>3</th>\n",
              "      <td>Neeraj Maurya</td>\n",
              "      <td>4</td>\n",
              "      <td>This is nice but whenever connected through BT...</td>\n",
              "      <td>This is nice in that price cap. but I think sh...</td>\n",
              "    </tr>\n",
              "    <tr>\n",
              "      <th>4</th>\n",
              "      <td>aditya</td>\n",
              "      <td>4</td>\n",
              "      <td>Good in comparison with Fireboltt.</td>\n",
              "      <td>Used fireboltt watch but was not satisfied wit...</td>\n",
              "    </tr>\n",
              "  </tbody>\n",
              "</table>\n",
              "</div>\n",
              "      <button class=\"colab-df-convert\" onclick=\"convertToInteractive('df-762ca0e4-27a0-426e-859a-2059d649830c')\"\n",
              "              title=\"Convert this dataframe to an interactive table.\"\n",
              "              style=\"display:none;\">\n",
              "        \n",
              "  <svg xmlns=\"http://www.w3.org/2000/svg\" height=\"24px\"viewBox=\"0 0 24 24\"\n",
              "       width=\"24px\">\n",
              "    <path d=\"M0 0h24v24H0V0z\" fill=\"none\"/>\n",
              "    <path d=\"M18.56 5.44l.94 2.06.94-2.06 2.06-.94-2.06-.94-.94-2.06-.94 2.06-2.06.94zm-11 1L8.5 8.5l.94-2.06 2.06-.94-2.06-.94L8.5 2.5l-.94 2.06-2.06.94zm10 10l.94 2.06.94-2.06 2.06-.94-2.06-.94-.94-2.06-.94 2.06-2.06.94z\"/><path d=\"M17.41 7.96l-1.37-1.37c-.4-.4-.92-.59-1.43-.59-.52 0-1.04.2-1.43.59L10.3 9.45l-7.72 7.72c-.78.78-.78 2.05 0 2.83L4 21.41c.39.39.9.59 1.41.59.51 0 1.02-.2 1.41-.59l7.78-7.78 2.81-2.81c.8-.78.8-2.07 0-2.86zM5.41 20L4 18.59l7.72-7.72 1.47 1.35L5.41 20z\"/>\n",
              "  </svg>\n",
              "      </button>\n",
              "      \n",
              "  <style>\n",
              "    .colab-df-container {\n",
              "      display:flex;\n",
              "      flex-wrap:wrap;\n",
              "      gap: 12px;\n",
              "    }\n",
              "\n",
              "    .colab-df-convert {\n",
              "      background-color: #E8F0FE;\n",
              "      border: none;\n",
              "      border-radius: 50%;\n",
              "      cursor: pointer;\n",
              "      display: none;\n",
              "      fill: #1967D2;\n",
              "      height: 32px;\n",
              "      padding: 0 0 0 0;\n",
              "      width: 32px;\n",
              "    }\n",
              "\n",
              "    .colab-df-convert:hover {\n",
              "      background-color: #E2EBFA;\n",
              "      box-shadow: 0px 1px 2px rgba(60, 64, 67, 0.3), 0px 1px 3px 1px rgba(60, 64, 67, 0.15);\n",
              "      fill: #174EA6;\n",
              "    }\n",
              "\n",
              "    [theme=dark] .colab-df-convert {\n",
              "      background-color: #3B4455;\n",
              "      fill: #D2E3FC;\n",
              "    }\n",
              "\n",
              "    [theme=dark] .colab-df-convert:hover {\n",
              "      background-color: #434B5C;\n",
              "      box-shadow: 0px 1px 3px 1px rgba(0, 0, 0, 0.15);\n",
              "      filter: drop-shadow(0px 1px 2px rgba(0, 0, 0, 0.3));\n",
              "      fill: #FFFFFF;\n",
              "    }\n",
              "  </style>\n",
              "\n",
              "      <script>\n",
              "        const buttonEl =\n",
              "          document.querySelector('#df-762ca0e4-27a0-426e-859a-2059d649830c button.colab-df-convert');\n",
              "        buttonEl.style.display =\n",
              "          google.colab.kernel.accessAllowed ? 'block' : 'none';\n",
              "\n",
              "        async function convertToInteractive(key) {\n",
              "          const element = document.querySelector('#df-762ca0e4-27a0-426e-859a-2059d649830c');\n",
              "          const dataTable =\n",
              "            await google.colab.kernel.invokeFunction('convertToInteractive',\n",
              "                                                     [key], {});\n",
              "          if (!dataTable) return;\n",
              "\n",
              "          const docLinkHtml = 'Like what you see? Visit the ' +\n",
              "            '<a target=\"_blank\" href=https://colab.research.google.com/notebooks/data_table.ipynb>data table notebook</a>'\n",
              "            + ' to learn more about interactive tables.';\n",
              "          element.innerHTML = '';\n",
              "          dataTable['output_type'] = 'display_data';\n",
              "          await google.colab.output.renderOutput(dataTable, element);\n",
              "          const docLink = document.createElement('div');\n",
              "          docLink.innerHTML = docLinkHtml;\n",
              "          element.appendChild(docLink);\n",
              "        }\n",
              "      </script>\n",
              "    </div>\n",
              "  </div>\n",
              "  "
            ]
          },
          "metadata": {},
          "execution_count": 191
        }
      ]
    },
    {
      "cell_type": "code",
      "source": [
        "data.duplicated().sum()"
      ],
      "metadata": {
        "colab": {
          "base_uri": "https://localhost:8080/"
        },
        "id": "pAmChi4Sb9j2",
        "outputId": "4be7f573-53f7-4199-b5b9-f0d9f2497a33"
      },
      "execution_count": 192,
      "outputs": [
        {
          "output_type": "execute_result",
          "data": {
            "text/plain": [
              "0"
            ]
          },
          "metadata": {},
          "execution_count": 192
        }
      ]
    },
    {
      "cell_type": "code",
      "source": [
        "data.stars.value_counts()"
      ],
      "metadata": {
        "colab": {
          "base_uri": "https://localhost:8080/"
        },
        "id": "wC0YJGcFcRG4",
        "outputId": "3474aaf6-5b11-423e-eab0-04aa6c9df268"
      },
      "execution_count": 193,
      "outputs": [
        {
          "output_type": "execute_result",
          "data": {
            "text/plain": [
              "5    572\n",
              "1    362\n",
              "4    182\n",
              "3    113\n",
              "2     99\n",
              "Name: stars, dtype: int64"
            ]
          },
          "metadata": {},
          "execution_count": 193
        }
      ]
    },
    {
      "cell_type": "code",
      "source": [
        "data.info()"
      ],
      "metadata": {
        "colab": {
          "base_uri": "https://localhost:8080/"
        },
        "id": "IYzfdrF3ccFf",
        "outputId": "f479315a-92ef-4800-f2a3-4b1d3f511cc9"
      },
      "execution_count": 194,
      "outputs": [
        {
          "output_type": "stream",
          "name": "stdout",
          "text": [
            "<class 'pandas.core.frame.DataFrame'>\n",
            "RangeIndex: 1328 entries, 0 to 1327\n",
            "Data columns (total 4 columns):\n",
            " #   Column         Non-Null Count  Dtype \n",
            "---  ------         --------------  ----- \n",
            " 0   Names          1328 non-null   object\n",
            " 1   stars          1328 non-null   int64 \n",
            " 2   Review_header  1328 non-null   object\n",
            " 3   reviews        1263 non-null   object\n",
            "dtypes: int64(1), object(3)\n",
            "memory usage: 41.6+ KB\n"
          ]
        }
      ]
    },
    {
      "cell_type": "code",
      "source": [
        "data.describe()"
      ],
      "metadata": {
        "colab": {
          "base_uri": "https://localhost:8080/",
          "height": 300
        },
        "id": "xgLnmLqCdAJ_",
        "outputId": "a9a0eb4c-9ec2-4b35-b5f4-80743d62e4f1"
      },
      "execution_count": 195,
      "outputs": [
        {
          "output_type": "execute_result",
          "data": {
            "text/plain": [
              "             stars\n",
              "count  1328.000000\n",
              "mean      3.378765\n",
              "std       1.698104\n",
              "min       1.000000\n",
              "25%       1.000000\n",
              "50%       4.000000\n",
              "75%       5.000000\n",
              "max       5.000000"
            ],
            "text/html": [
              "\n",
              "  <div id=\"df-275a4cdf-550d-4b2d-aa66-fc94178fe2a9\">\n",
              "    <div class=\"colab-df-container\">\n",
              "      <div>\n",
              "<style scoped>\n",
              "    .dataframe tbody tr th:only-of-type {\n",
              "        vertical-align: middle;\n",
              "    }\n",
              "\n",
              "    .dataframe tbody tr th {\n",
              "        vertical-align: top;\n",
              "    }\n",
              "\n",
              "    .dataframe thead th {\n",
              "        text-align: right;\n",
              "    }\n",
              "</style>\n",
              "<table border=\"1\" class=\"dataframe\">\n",
              "  <thead>\n",
              "    <tr style=\"text-align: right;\">\n",
              "      <th></th>\n",
              "      <th>stars</th>\n",
              "    </tr>\n",
              "  </thead>\n",
              "  <tbody>\n",
              "    <tr>\n",
              "      <th>count</th>\n",
              "      <td>1328.000000</td>\n",
              "    </tr>\n",
              "    <tr>\n",
              "      <th>mean</th>\n",
              "      <td>3.378765</td>\n",
              "    </tr>\n",
              "    <tr>\n",
              "      <th>std</th>\n",
              "      <td>1.698104</td>\n",
              "    </tr>\n",
              "    <tr>\n",
              "      <th>min</th>\n",
              "      <td>1.000000</td>\n",
              "    </tr>\n",
              "    <tr>\n",
              "      <th>25%</th>\n",
              "      <td>1.000000</td>\n",
              "    </tr>\n",
              "    <tr>\n",
              "      <th>50%</th>\n",
              "      <td>4.000000</td>\n",
              "    </tr>\n",
              "    <tr>\n",
              "      <th>75%</th>\n",
              "      <td>5.000000</td>\n",
              "    </tr>\n",
              "    <tr>\n",
              "      <th>max</th>\n",
              "      <td>5.000000</td>\n",
              "    </tr>\n",
              "  </tbody>\n",
              "</table>\n",
              "</div>\n",
              "      <button class=\"colab-df-convert\" onclick=\"convertToInteractive('df-275a4cdf-550d-4b2d-aa66-fc94178fe2a9')\"\n",
              "              title=\"Convert this dataframe to an interactive table.\"\n",
              "              style=\"display:none;\">\n",
              "        \n",
              "  <svg xmlns=\"http://www.w3.org/2000/svg\" height=\"24px\"viewBox=\"0 0 24 24\"\n",
              "       width=\"24px\">\n",
              "    <path d=\"M0 0h24v24H0V0z\" fill=\"none\"/>\n",
              "    <path d=\"M18.56 5.44l.94 2.06.94-2.06 2.06-.94-2.06-.94-.94-2.06-.94 2.06-2.06.94zm-11 1L8.5 8.5l.94-2.06 2.06-.94-2.06-.94L8.5 2.5l-.94 2.06-2.06.94zm10 10l.94 2.06.94-2.06 2.06-.94-2.06-.94-.94-2.06-.94 2.06-2.06.94z\"/><path d=\"M17.41 7.96l-1.37-1.37c-.4-.4-.92-.59-1.43-.59-.52 0-1.04.2-1.43.59L10.3 9.45l-7.72 7.72c-.78.78-.78 2.05 0 2.83L4 21.41c.39.39.9.59 1.41.59.51 0 1.02-.2 1.41-.59l7.78-7.78 2.81-2.81c.8-.78.8-2.07 0-2.86zM5.41 20L4 18.59l7.72-7.72 1.47 1.35L5.41 20z\"/>\n",
              "  </svg>\n",
              "      </button>\n",
              "      \n",
              "  <style>\n",
              "    .colab-df-container {\n",
              "      display:flex;\n",
              "      flex-wrap:wrap;\n",
              "      gap: 12px;\n",
              "    }\n",
              "\n",
              "    .colab-df-convert {\n",
              "      background-color: #E8F0FE;\n",
              "      border: none;\n",
              "      border-radius: 50%;\n",
              "      cursor: pointer;\n",
              "      display: none;\n",
              "      fill: #1967D2;\n",
              "      height: 32px;\n",
              "      padding: 0 0 0 0;\n",
              "      width: 32px;\n",
              "    }\n",
              "\n",
              "    .colab-df-convert:hover {\n",
              "      background-color: #E2EBFA;\n",
              "      box-shadow: 0px 1px 2px rgba(60, 64, 67, 0.3), 0px 1px 3px 1px rgba(60, 64, 67, 0.15);\n",
              "      fill: #174EA6;\n",
              "    }\n",
              "\n",
              "    [theme=dark] .colab-df-convert {\n",
              "      background-color: #3B4455;\n",
              "      fill: #D2E3FC;\n",
              "    }\n",
              "\n",
              "    [theme=dark] .colab-df-convert:hover {\n",
              "      background-color: #434B5C;\n",
              "      box-shadow: 0px 1px 3px 1px rgba(0, 0, 0, 0.15);\n",
              "      filter: drop-shadow(0px 1px 2px rgba(0, 0, 0, 0.3));\n",
              "      fill: #FFFFFF;\n",
              "    }\n",
              "  </style>\n",
              "\n",
              "      <script>\n",
              "        const buttonEl =\n",
              "          document.querySelector('#df-275a4cdf-550d-4b2d-aa66-fc94178fe2a9 button.colab-df-convert');\n",
              "        buttonEl.style.display =\n",
              "          google.colab.kernel.accessAllowed ? 'block' : 'none';\n",
              "\n",
              "        async function convertToInteractive(key) {\n",
              "          const element = document.querySelector('#df-275a4cdf-550d-4b2d-aa66-fc94178fe2a9');\n",
              "          const dataTable =\n",
              "            await google.colab.kernel.invokeFunction('convertToInteractive',\n",
              "                                                     [key], {});\n",
              "          if (!dataTable) return;\n",
              "\n",
              "          const docLinkHtml = 'Like what you see? Visit the ' +\n",
              "            '<a target=\"_blank\" href=https://colab.research.google.com/notebooks/data_table.ipynb>data table notebook</a>'\n",
              "            + ' to learn more about interactive tables.';\n",
              "          element.innerHTML = '';\n",
              "          dataTable['output_type'] = 'display_data';\n",
              "          await google.colab.output.renderOutput(dataTable, element);\n",
              "          const docLink = document.createElement('div');\n",
              "          docLink.innerHTML = docLinkHtml;\n",
              "          element.appendChild(docLink);\n",
              "        }\n",
              "      </script>\n",
              "    </div>\n",
              "  </div>\n",
              "  "
            ]
          },
          "metadata": {},
          "execution_count": 195
        }
      ]
    },
    {
      "cell_type": "code",
      "source": [
        "data.shape"
      ],
      "metadata": {
        "colab": {
          "base_uri": "https://localhost:8080/"
        },
        "id": "EZZwzI4OdKZ3",
        "outputId": "203cc3c1-1407-4a78-e390-ed4814cb0b95"
      },
      "execution_count": 196,
      "outputs": [
        {
          "output_type": "execute_result",
          "data": {
            "text/plain": [
              "(1328, 4)"
            ]
          },
          "metadata": {},
          "execution_count": 196
        }
      ]
    },
    {
      "cell_type": "markdown",
      "source": [
        "## Data PreProcessing"
      ],
      "metadata": {
        "id": "Nn8-SMAAEmjv"
      }
    },
    {
      "cell_type": "code",
      "source": [
        "import re\n",
        "import nltk\n",
        "from imblearn.under_sampling import RandomUnderSampler\n",
        "import string\n",
        "nltk.download('stopwords')"
      ],
      "metadata": {
        "colab": {
          "base_uri": "https://localhost:8080/"
        },
        "id": "wvVpSWnedSUv",
        "outputId": "dda8db87-6edc-495e-88ca-18d4da712e81"
      },
      "execution_count": 197,
      "outputs": [
        {
          "output_type": "stream",
          "name": "stderr",
          "text": [
            "[nltk_data] Downloading package stopwords to /root/nltk_data...\n",
            "[nltk_data]   Package stopwords is already up-to-date!\n"
          ]
        },
        {
          "output_type": "execute_result",
          "data": {
            "text/plain": [
              "True"
            ]
          },
          "metadata": {},
          "execution_count": 197
        }
      ]
    },
    {
      "cell_type": "code",
      "source": [
        "data1 = data.copy()"
      ],
      "metadata": {
        "id": "MrN6DEHJgKUQ"
      },
      "execution_count": 198,
      "outputs": []
    },
    {
      "cell_type": "code",
      "source": [
        "data1.info()"
      ],
      "metadata": {
        "colab": {
          "base_uri": "https://localhost:8080/"
        },
        "id": "IqAVaGewqyHe",
        "outputId": "4bdbaad3-0be3-4603-e323-58ab8238dc7e"
      },
      "execution_count": 199,
      "outputs": [
        {
          "output_type": "stream",
          "name": "stdout",
          "text": [
            "<class 'pandas.core.frame.DataFrame'>\n",
            "RangeIndex: 1328 entries, 0 to 1327\n",
            "Data columns (total 4 columns):\n",
            " #   Column         Non-Null Count  Dtype \n",
            "---  ------         --------------  ----- \n",
            " 0   Names          1328 non-null   object\n",
            " 1   stars          1328 non-null   int64 \n",
            " 2   Review_header  1328 non-null   object\n",
            " 3   reviews        1263 non-null   object\n",
            "dtypes: int64(1), object(3)\n",
            "memory usage: 41.6+ KB\n"
          ]
        }
      ]
    },
    {
      "cell_type": "code",
      "source": [
        "data1.isna().sum()"
      ],
      "metadata": {
        "colab": {
          "base_uri": "https://localhost:8080/"
        },
        "id": "iUD8iNKCrIxP",
        "outputId": "5b825722-259e-42b2-ba62-87edaa24e565"
      },
      "execution_count": 200,
      "outputs": [
        {
          "output_type": "execute_result",
          "data": {
            "text/plain": [
              "Names             0\n",
              "stars             0\n",
              "Review_header     0\n",
              "reviews          65\n",
              "dtype: int64"
            ]
          },
          "metadata": {},
          "execution_count": 200
        }
      ]
    },
    {
      "cell_type": "code",
      "source": [
        "data1.dropna(inplace = True,axis=0)"
      ],
      "metadata": {
        "id": "rvcFRIHZrdpG"
      },
      "execution_count": 201,
      "outputs": []
    },
    {
      "cell_type": "code",
      "source": [
        "!pip install contractions"
      ],
      "metadata": {
        "id": "DCeB4VKLjozD",
        "colab": {
          "base_uri": "https://localhost:8080/"
        },
        "outputId": "a362db7a-49b2-41ee-a138-88fe6588acde"
      },
      "execution_count": 202,
      "outputs": [
        {
          "output_type": "stream",
          "name": "stdout",
          "text": [
            "Looking in indexes: https://pypi.org/simple, https://us-python.pkg.dev/colab-wheels/public/simple/\n",
            "Requirement already satisfied: contractions in /usr/local/lib/python3.7/dist-packages (0.1.72)\n",
            "Requirement already satisfied: textsearch>=0.0.21 in /usr/local/lib/python3.7/dist-packages (from contractions) (0.0.24)\n",
            "Requirement already satisfied: pyahocorasick in /usr/local/lib/python3.7/dist-packages (from textsearch>=0.0.21->contractions) (1.4.4)\n",
            "Requirement already satisfied: anyascii in /usr/local/lib/python3.7/dist-packages (from textsearch>=0.0.21->contractions) (0.3.1)\n"
          ]
        }
      ]
    },
    {
      "cell_type": "code",
      "source": [
        "#$# Replacing contractions with their full forms. (aren't -> are not)\n",
        "import contractions\n",
        "data1['clean_reviews'] = data1['reviews'].apply(lambda x: contractions.fix(x))"
      ],
      "metadata": {
        "id": "uk5s79byeAyn"
      },
      "execution_count": 203,
      "outputs": []
    },
    {
      "cell_type": "code",
      "source": [
        "data1.head()"
      ],
      "metadata": {
        "colab": {
          "base_uri": "https://localhost:8080/",
          "height": 206
        },
        "id": "e-BNTHb6qee3",
        "outputId": "635412cc-8ea5-4704-b74d-45ba9f8ff8f6"
      },
      "execution_count": 204,
      "outputs": [
        {
          "output_type": "execute_result",
          "data": {
            "text/plain": [
              "                 Names  stars  \\\n",
              "0                   AV      4   \n",
              "1  Durga mani kartheek      4   \n",
              "2            Mihika a.      4   \n",
              "3        Neeraj Maurya      4   \n",
              "4               aditya      4   \n",
              "\n",
              "                                       Review_header  \\\n",
              "0      Not Polished Enough. (Improving with updates)   \n",
              "1  One of the best build quality of this price range   \n",
              "2       They didn't send the charger with the watch.   \n",
              "3  This is nice but whenever connected through BT...   \n",
              "4                 Good in comparison with Fireboltt.   \n",
              "\n",
              "                                             reviews  \\\n",
              "0  [Update: Sept 29] boAt seems to have heard the...   \n",
              "1  The heart rate sensor is 90% to 85% accurateI ...   \n",
              "2  Boat smart watch is good but I didn't get the ...   \n",
              "3  This is nice in that price cap. but I think sh...   \n",
              "4  Used fireboltt watch but was not satisfied wit...   \n",
              "\n",
              "                                       clean_reviews  \n",
              "0  [Update: Sept 29] boAt seems to have heard the...  \n",
              "1  The heart rate sensor is 90% to 85% accurateI ...  \n",
              "2  Boat smart watch is good but I did not get the...  \n",
              "3  This is nice in that price cap. but I think sh...  \n",
              "4  Used fireboltt watch but was not satisfied wit...  "
            ],
            "text/html": [
              "\n",
              "  <div id=\"df-523077ec-ab14-46fd-baba-8b3e15cd6113\">\n",
              "    <div class=\"colab-df-container\">\n",
              "      <div>\n",
              "<style scoped>\n",
              "    .dataframe tbody tr th:only-of-type {\n",
              "        vertical-align: middle;\n",
              "    }\n",
              "\n",
              "    .dataframe tbody tr th {\n",
              "        vertical-align: top;\n",
              "    }\n",
              "\n",
              "    .dataframe thead th {\n",
              "        text-align: right;\n",
              "    }\n",
              "</style>\n",
              "<table border=\"1\" class=\"dataframe\">\n",
              "  <thead>\n",
              "    <tr style=\"text-align: right;\">\n",
              "      <th></th>\n",
              "      <th>Names</th>\n",
              "      <th>stars</th>\n",
              "      <th>Review_header</th>\n",
              "      <th>reviews</th>\n",
              "      <th>clean_reviews</th>\n",
              "    </tr>\n",
              "  </thead>\n",
              "  <tbody>\n",
              "    <tr>\n",
              "      <th>0</th>\n",
              "      <td>AV</td>\n",
              "      <td>4</td>\n",
              "      <td>Not Polished Enough. (Improving with updates)</td>\n",
              "      <td>[Update: Sept 29] boAt seems to have heard the...</td>\n",
              "      <td>[Update: Sept 29] boAt seems to have heard the...</td>\n",
              "    </tr>\n",
              "    <tr>\n",
              "      <th>1</th>\n",
              "      <td>Durga mani kartheek</td>\n",
              "      <td>4</td>\n",
              "      <td>One of the best build quality of this price range</td>\n",
              "      <td>The heart rate sensor is 90% to 85% accurateI ...</td>\n",
              "      <td>The heart rate sensor is 90% to 85% accurateI ...</td>\n",
              "    </tr>\n",
              "    <tr>\n",
              "      <th>2</th>\n",
              "      <td>Mihika a.</td>\n",
              "      <td>4</td>\n",
              "      <td>They didn't send the charger with the watch.</td>\n",
              "      <td>Boat smart watch is good but I didn't get the ...</td>\n",
              "      <td>Boat smart watch is good but I did not get the...</td>\n",
              "    </tr>\n",
              "    <tr>\n",
              "      <th>3</th>\n",
              "      <td>Neeraj Maurya</td>\n",
              "      <td>4</td>\n",
              "      <td>This is nice but whenever connected through BT...</td>\n",
              "      <td>This is nice in that price cap. but I think sh...</td>\n",
              "      <td>This is nice in that price cap. but I think sh...</td>\n",
              "    </tr>\n",
              "    <tr>\n",
              "      <th>4</th>\n",
              "      <td>aditya</td>\n",
              "      <td>4</td>\n",
              "      <td>Good in comparison with Fireboltt.</td>\n",
              "      <td>Used fireboltt watch but was not satisfied wit...</td>\n",
              "      <td>Used fireboltt watch but was not satisfied wit...</td>\n",
              "    </tr>\n",
              "  </tbody>\n",
              "</table>\n",
              "</div>\n",
              "      <button class=\"colab-df-convert\" onclick=\"convertToInteractive('df-523077ec-ab14-46fd-baba-8b3e15cd6113')\"\n",
              "              title=\"Convert this dataframe to an interactive table.\"\n",
              "              style=\"display:none;\">\n",
              "        \n",
              "  <svg xmlns=\"http://www.w3.org/2000/svg\" height=\"24px\"viewBox=\"0 0 24 24\"\n",
              "       width=\"24px\">\n",
              "    <path d=\"M0 0h24v24H0V0z\" fill=\"none\"/>\n",
              "    <path d=\"M18.56 5.44l.94 2.06.94-2.06 2.06-.94-2.06-.94-.94-2.06-.94 2.06-2.06.94zm-11 1L8.5 8.5l.94-2.06 2.06-.94-2.06-.94L8.5 2.5l-.94 2.06-2.06.94zm10 10l.94 2.06.94-2.06 2.06-.94-2.06-.94-.94-2.06-.94 2.06-2.06.94z\"/><path d=\"M17.41 7.96l-1.37-1.37c-.4-.4-.92-.59-1.43-.59-.52 0-1.04.2-1.43.59L10.3 9.45l-7.72 7.72c-.78.78-.78 2.05 0 2.83L4 21.41c.39.39.9.59 1.41.59.51 0 1.02-.2 1.41-.59l7.78-7.78 2.81-2.81c.8-.78.8-2.07 0-2.86zM5.41 20L4 18.59l7.72-7.72 1.47 1.35L5.41 20z\"/>\n",
              "  </svg>\n",
              "      </button>\n",
              "      \n",
              "  <style>\n",
              "    .colab-df-container {\n",
              "      display:flex;\n",
              "      flex-wrap:wrap;\n",
              "      gap: 12px;\n",
              "    }\n",
              "\n",
              "    .colab-df-convert {\n",
              "      background-color: #E8F0FE;\n",
              "      border: none;\n",
              "      border-radius: 50%;\n",
              "      cursor: pointer;\n",
              "      display: none;\n",
              "      fill: #1967D2;\n",
              "      height: 32px;\n",
              "      padding: 0 0 0 0;\n",
              "      width: 32px;\n",
              "    }\n",
              "\n",
              "    .colab-df-convert:hover {\n",
              "      background-color: #E2EBFA;\n",
              "      box-shadow: 0px 1px 2px rgba(60, 64, 67, 0.3), 0px 1px 3px 1px rgba(60, 64, 67, 0.15);\n",
              "      fill: #174EA6;\n",
              "    }\n",
              "\n",
              "    [theme=dark] .colab-df-convert {\n",
              "      background-color: #3B4455;\n",
              "      fill: #D2E3FC;\n",
              "    }\n",
              "\n",
              "    [theme=dark] .colab-df-convert:hover {\n",
              "      background-color: #434B5C;\n",
              "      box-shadow: 0px 1px 3px 1px rgba(0, 0, 0, 0.15);\n",
              "      filter: drop-shadow(0px 1px 2px rgba(0, 0, 0, 0.3));\n",
              "      fill: #FFFFFF;\n",
              "    }\n",
              "  </style>\n",
              "\n",
              "      <script>\n",
              "        const buttonEl =\n",
              "          document.querySelector('#df-523077ec-ab14-46fd-baba-8b3e15cd6113 button.colab-df-convert');\n",
              "        buttonEl.style.display =\n",
              "          google.colab.kernel.accessAllowed ? 'block' : 'none';\n",
              "\n",
              "        async function convertToInteractive(key) {\n",
              "          const element = document.querySelector('#df-523077ec-ab14-46fd-baba-8b3e15cd6113');\n",
              "          const dataTable =\n",
              "            await google.colab.kernel.invokeFunction('convertToInteractive',\n",
              "                                                     [key], {});\n",
              "          if (!dataTable) return;\n",
              "\n",
              "          const docLinkHtml = 'Like what you see? Visit the ' +\n",
              "            '<a target=\"_blank\" href=https://colab.research.google.com/notebooks/data_table.ipynb>data table notebook</a>'\n",
              "            + ' to learn more about interactive tables.';\n",
              "          element.innerHTML = '';\n",
              "          dataTable['output_type'] = 'display_data';\n",
              "          await google.colab.output.renderOutput(dataTable, element);\n",
              "          const docLink = document.createElement('div');\n",
              "          docLink.innerHTML = docLinkHtml;\n",
              "          element.appendChild(docLink);\n",
              "        }\n",
              "      </script>\n",
              "    </div>\n",
              "  </div>\n",
              "  "
            ]
          },
          "metadata": {},
          "execution_count": 204
        }
      ]
    },
    {
      "cell_type": "code",
      "source": [
        "# Converting all alphabets to lower case\n",
        "data1['clean_reviews']=data1['clean_reviews'].str.lower()"
      ],
      "metadata": {
        "id": "AyWdAlFmtYo-"
      },
      "execution_count": 205,
      "outputs": []
    },
    {
      "cell_type": "code",
      "source": [
        "pat = r'[^a-zA-z0-9.,!?/:;\\\"\\'\\s]' \n",
        "data1['clean_revies'] = data1['clean_reviews'].apply(lambda text: re.sub(pat, '', text))"
      ],
      "metadata": {
        "id": "fbk_tWlbD_rk"
      },
      "execution_count": 206,
      "outputs": []
    },
    {
      "cell_type": "code",
      "source": [
        "#remove punctuation\n",
        "data1['clean_reviews'] = data1['clean_reviews'].apply(lambda x: re.sub('[%s]' % re.escape(string.punctuation), '' , x))"
      ],
      "metadata": {
        "id": "pbuO0Ofcu_8G"
      },
      "execution_count": 207,
      "outputs": []
    },
    {
      "cell_type": "code",
      "source": [
        "#remove words and digits\n",
        "data1['clean_reviews'] = data1['clean_reviews'].apply(lambda x: re.sub('W*dw*','',x))"
      ],
      "metadata": {
        "id": "aaqB2NONvqYW"
      },
      "execution_count": 208,
      "outputs": []
    },
    {
      "cell_type": "code",
      "source": [
        "#remove stopwords\n",
        "from nltk.corpus import stopwords\n",
        "stop_words = set(stopwords.words('english'))\n",
        "stop_words.add('ok')\n",
        "stop_words.add('http')\n",
        "def remove_stopwords(text):\n",
        "    return \" \".join([word for word in str(text).split() if word not in stop_words])\n",
        "data1['clean_reviews'] = data1['clean_reviews'].apply(lambda x: remove_stopwords(x))"
      ],
      "metadata": {
        "id": "fv0dfTRVxmbz"
      },
      "execution_count": 209,
      "outputs": []
    },
    {
      "cell_type": "code",
      "source": [
        "#stemming\n",
        "from nltk.stem import PorterStemmer\n",
        "stemmer = PorterStemmer()\n",
        "def stem_words(text):\n",
        "    return \" \".join([stemmer.stem(word) for word in text.split()])\n",
        "data1[\"clean_reviews\"] = data1[\"clean_reviews\"].apply(lambda x: stem_words(x))"
      ],
      "metadata": {
        "id": "lzPz1zW9x-wv"
      },
      "execution_count": 210,
      "outputs": []
    },
    {
      "cell_type": "code",
      "source": [
        "# Removing Extra Spaces\n",
        "data1[\"clean_reviews\"] = data1[\"clean_reviews\"].apply(lambda text: re.sub(' +', ' ', text))"
      ],
      "metadata": {
        "id": "2zpEuZK2zo53"
      },
      "execution_count": 211,
      "outputs": []
    },
    {
      "cell_type": "code",
      "source": [
        "pat = r'[^a-zA-z0-9.,!?/:;\\\"\\'\\s]' \n",
        "data1['clean_reviews'] = data1['clean_reviews'].apply(lambda text: re.sub(pat, '', text))"
      ],
      "metadata": {
        "id": "6vhhGlnz2Fjg"
      },
      "execution_count": 212,
      "outputs": []
    },
    {
      "cell_type": "markdown",
      "source": [
        "## Modelling"
      ],
      "metadata": {
        "id": "wp1K9q1mI2Rd"
      }
    },
    {
      "cell_type": "code",
      "source": [
        "from sklearn.preprocessing import OrdinalEncoder\n",
        "from sklearn.feature_extraction.text import CountVectorizer\n",
        "from sklearn.metrics import classification_report, confusion_matrix, accuracy_score\n",
        "from sklearn.model_selection import train_test_split\n",
        "import matplotlib.pyplot as plt\n",
        "import seaborn as sn\n",
        "from sklearn.metrics import confusion_matrix\n",
        "plt.style.use('seaborn')"
      ],
      "metadata": {
        "id": "i4FI-4f1s3Tj"
      },
      "execution_count": 213,
      "outputs": []
    },
    {
      "cell_type": "code",
      "source": [
        "data1['clean_reviews']"
      ],
      "metadata": {
        "colab": {
          "base_uri": "https://localhost:8080/"
        },
        "id": "4n2n2dIMQFjP",
        "outputId": "31886d6c-f417-49a6-8f78-04829aa662c8"
      },
      "execution_count": 214,
      "outputs": [
        {
          "output_type": "execute_result",
          "data": {
            "text/plain": [
              "0       upat sept 29 boat seem hear feeback  upat watc...\n",
              "1       heart rate sensor 90 85 accuratei test itther ...\n",
              "2       boat smart watch goo get charg cabl ask give c...\n",
              "3           nice price cap think shoul batteri life nice \n",
              "4       use fireboltt watch satisfi cost vs featur res...\n",
              "                              ...                        \n",
              "1323    nice prouct easi use goo batteri qualiti highe...\n",
              "1324    watch verymuch similar boat watch call featur ...\n",
              "1325    overal prouct goo satisfi screen qualiti upto ...\n",
              "1326    gift watch wife realli like ittouch screen goo...\n",
              "1327    smartwatch mani featur love see big screen goo...\n",
              "Name: clean_reviews, Length: 1263, dtype: object"
            ]
          },
          "metadata": {},
          "execution_count": 214
        }
      ]
    },
    {
      "cell_type": "code",
      "source": [
        "vec = CountVectorizer()\n",
        "X = vec.fit_transform(data1[\"clean_reviews\"])\n",
        "X"
      ],
      "metadata": {
        "colab": {
          "base_uri": "https://localhost:8080/"
        },
        "id": "Ff2Q4xZCI4AE",
        "outputId": "e3d3475d-94c4-4c76-ce76-1e5306da4d87"
      },
      "execution_count": 215,
      "outputs": [
        {
          "output_type": "execute_result",
          "data": {
            "text/plain": [
              "<1263x2621 sparse matrix of type '<class 'numpy.int64'>'\n",
              "\twith 14646 stored elements in Compressed Sparse Row format>"
            ]
          },
          "metadata": {},
          "execution_count": 215
        }
      ]
    },
    {
      "cell_type": "code",
      "source": [
        "print(X.toarray())"
      ],
      "metadata": {
        "colab": {
          "base_uri": "https://localhost:8080/"
        },
        "id": "YzvARAm1NhEm",
        "outputId": "6e2eadc1-0da3-4a61-a932-5786c3a56a20"
      },
      "execution_count": 216,
      "outputs": [
        {
          "output_type": "stream",
          "name": "stdout",
          "text": [
            "[[0 0 0 ... 0 0 0]\n",
            " [0 0 0 ... 0 0 0]\n",
            " [0 0 0 ... 0 0 0]\n",
            " ...\n",
            " [0 0 0 ... 0 0 0]\n",
            " [0 0 0 ... 0 0 0]\n",
            " [0 0 0 ... 0 0 0]]\n"
          ]
        }
      ]
    },
    {
      "cell_type": "code",
      "source": [
        "df = pd.DataFrame(X.toarray(),columns=vec.get_feature_names_out())"
      ],
      "metadata": {
        "id": "8Wvw7mFfKvdt"
      },
      "execution_count": 217,
      "outputs": []
    },
    {
      "cell_type": "code",
      "source": [
        "data1['stars'].value_counts()"
      ],
      "metadata": {
        "colab": {
          "base_uri": "https://localhost:8080/"
        },
        "id": "Nmfw3Q7pI7n0",
        "outputId": "cc0c3ba5-7400-4895-9a48-24a9da418ea9"
      },
      "execution_count": 218,
      "outputs": [
        {
          "output_type": "execute_result",
          "data": {
            "text/plain": [
              "5    538\n",
              "1    351\n",
              "4    172\n",
              "3    106\n",
              "2     96\n",
              "Name: stars, dtype: int64"
            ]
          },
          "metadata": {},
          "execution_count": 218
        }
      ]
    },
    {
      "cell_type": "code",
      "source": [
        "data1['sentiment'] = data1['stars'].apply(lambda x: 1 if x>3 else 0)"
      ],
      "metadata": {
        "id": "zOisGvVgMaYS"
      },
      "execution_count": 219,
      "outputs": []
    },
    {
      "cell_type": "code",
      "source": [
        "data1.head()"
      ],
      "metadata": {
        "colab": {
          "base_uri": "https://localhost:8080/",
          "height": 206
        },
        "id": "f9W_NTkBRsUO",
        "outputId": "2bd7fbf3-62a3-4957-f9b4-a8bc1da76cff"
      },
      "execution_count": 220,
      "outputs": [
        {
          "output_type": "execute_result",
          "data": {
            "text/plain": [
              "                 Names  stars  \\\n",
              "0                   AV      4   \n",
              "1  Durga mani kartheek      4   \n",
              "2            Mihika a.      4   \n",
              "3        Neeraj Maurya      4   \n",
              "4               aditya      4   \n",
              "\n",
              "                                       Review_header  \\\n",
              "0      Not Polished Enough. (Improving with updates)   \n",
              "1  One of the best build quality of this price range   \n",
              "2       They didn't send the charger with the watch.   \n",
              "3  This is nice but whenever connected through BT...   \n",
              "4                 Good in comparison with Fireboltt.   \n",
              "\n",
              "                                             reviews  \\\n",
              "0  [Update: Sept 29] boAt seems to have heard the...   \n",
              "1  The heart rate sensor is 90% to 85% accurateI ...   \n",
              "2  Boat smart watch is good but I didn't get the ...   \n",
              "3  This is nice in that price cap. but I think sh...   \n",
              "4  Used fireboltt watch but was not satisfied wit...   \n",
              "\n",
              "                                       clean_reviews  \\\n",
              "0  upat sept 29 boat seem hear feeback  upat watc...   \n",
              "1  heart rate sensor 90 85 accuratei test itther ...   \n",
              "2  boat smart watch goo get charg cabl ask give c...   \n",
              "3      nice price cap think shoul batteri life nice    \n",
              "4  use fireboltt watch satisfi cost vs featur res...   \n",
              "\n",
              "                                        clean_revies  sentiment  \n",
              "0  [update: sept 29] boat seems to have heard the...          1  \n",
              "1  the heart rate sensor is 90 to 85 accuratei te...          1  \n",
              "2  boat smart watch is good but i did not get the...          1  \n",
              "3  this is nice in that price cap. but i think sh...          1  \n",
              "4  used fireboltt watch but was not satisfied wit...          1  "
            ],
            "text/html": [
              "\n",
              "  <div id=\"df-877719eb-0c2a-4735-8ac3-288cd744772d\">\n",
              "    <div class=\"colab-df-container\">\n",
              "      <div>\n",
              "<style scoped>\n",
              "    .dataframe tbody tr th:only-of-type {\n",
              "        vertical-align: middle;\n",
              "    }\n",
              "\n",
              "    .dataframe tbody tr th {\n",
              "        vertical-align: top;\n",
              "    }\n",
              "\n",
              "    .dataframe thead th {\n",
              "        text-align: right;\n",
              "    }\n",
              "</style>\n",
              "<table border=\"1\" class=\"dataframe\">\n",
              "  <thead>\n",
              "    <tr style=\"text-align: right;\">\n",
              "      <th></th>\n",
              "      <th>Names</th>\n",
              "      <th>stars</th>\n",
              "      <th>Review_header</th>\n",
              "      <th>reviews</th>\n",
              "      <th>clean_reviews</th>\n",
              "      <th>clean_revies</th>\n",
              "      <th>sentiment</th>\n",
              "    </tr>\n",
              "  </thead>\n",
              "  <tbody>\n",
              "    <tr>\n",
              "      <th>0</th>\n",
              "      <td>AV</td>\n",
              "      <td>4</td>\n",
              "      <td>Not Polished Enough. (Improving with updates)</td>\n",
              "      <td>[Update: Sept 29] boAt seems to have heard the...</td>\n",
              "      <td>upat sept 29 boat seem hear feeback  upat watc...</td>\n",
              "      <td>[update: sept 29] boat seems to have heard the...</td>\n",
              "      <td>1</td>\n",
              "    </tr>\n",
              "    <tr>\n",
              "      <th>1</th>\n",
              "      <td>Durga mani kartheek</td>\n",
              "      <td>4</td>\n",
              "      <td>One of the best build quality of this price range</td>\n",
              "      <td>The heart rate sensor is 90% to 85% accurateI ...</td>\n",
              "      <td>heart rate sensor 90 85 accuratei test itther ...</td>\n",
              "      <td>the heart rate sensor is 90 to 85 accuratei te...</td>\n",
              "      <td>1</td>\n",
              "    </tr>\n",
              "    <tr>\n",
              "      <th>2</th>\n",
              "      <td>Mihika a.</td>\n",
              "      <td>4</td>\n",
              "      <td>They didn't send the charger with the watch.</td>\n",
              "      <td>Boat smart watch is good but I didn't get the ...</td>\n",
              "      <td>boat smart watch goo get charg cabl ask give c...</td>\n",
              "      <td>boat smart watch is good but i did not get the...</td>\n",
              "      <td>1</td>\n",
              "    </tr>\n",
              "    <tr>\n",
              "      <th>3</th>\n",
              "      <td>Neeraj Maurya</td>\n",
              "      <td>4</td>\n",
              "      <td>This is nice but whenever connected through BT...</td>\n",
              "      <td>This is nice in that price cap. but I think sh...</td>\n",
              "      <td>nice price cap think shoul batteri life nice</td>\n",
              "      <td>this is nice in that price cap. but i think sh...</td>\n",
              "      <td>1</td>\n",
              "    </tr>\n",
              "    <tr>\n",
              "      <th>4</th>\n",
              "      <td>aditya</td>\n",
              "      <td>4</td>\n",
              "      <td>Good in comparison with Fireboltt.</td>\n",
              "      <td>Used fireboltt watch but was not satisfied wit...</td>\n",
              "      <td>use fireboltt watch satisfi cost vs featur res...</td>\n",
              "      <td>used fireboltt watch but was not satisfied wit...</td>\n",
              "      <td>1</td>\n",
              "    </tr>\n",
              "  </tbody>\n",
              "</table>\n",
              "</div>\n",
              "      <button class=\"colab-df-convert\" onclick=\"convertToInteractive('df-877719eb-0c2a-4735-8ac3-288cd744772d')\"\n",
              "              title=\"Convert this dataframe to an interactive table.\"\n",
              "              style=\"display:none;\">\n",
              "        \n",
              "  <svg xmlns=\"http://www.w3.org/2000/svg\" height=\"24px\"viewBox=\"0 0 24 24\"\n",
              "       width=\"24px\">\n",
              "    <path d=\"M0 0h24v24H0V0z\" fill=\"none\"/>\n",
              "    <path d=\"M18.56 5.44l.94 2.06.94-2.06 2.06-.94-2.06-.94-.94-2.06-.94 2.06-2.06.94zm-11 1L8.5 8.5l.94-2.06 2.06-.94-2.06-.94L8.5 2.5l-.94 2.06-2.06.94zm10 10l.94 2.06.94-2.06 2.06-.94-2.06-.94-.94-2.06-.94 2.06-2.06.94z\"/><path d=\"M17.41 7.96l-1.37-1.37c-.4-.4-.92-.59-1.43-.59-.52 0-1.04.2-1.43.59L10.3 9.45l-7.72 7.72c-.78.78-.78 2.05 0 2.83L4 21.41c.39.39.9.59 1.41.59.51 0 1.02-.2 1.41-.59l7.78-7.78 2.81-2.81c.8-.78.8-2.07 0-2.86zM5.41 20L4 18.59l7.72-7.72 1.47 1.35L5.41 20z\"/>\n",
              "  </svg>\n",
              "      </button>\n",
              "      \n",
              "  <style>\n",
              "    .colab-df-container {\n",
              "      display:flex;\n",
              "      flex-wrap:wrap;\n",
              "      gap: 12px;\n",
              "    }\n",
              "\n",
              "    .colab-df-convert {\n",
              "      background-color: #E8F0FE;\n",
              "      border: none;\n",
              "      border-radius: 50%;\n",
              "      cursor: pointer;\n",
              "      display: none;\n",
              "      fill: #1967D2;\n",
              "      height: 32px;\n",
              "      padding: 0 0 0 0;\n",
              "      width: 32px;\n",
              "    }\n",
              "\n",
              "    .colab-df-convert:hover {\n",
              "      background-color: #E2EBFA;\n",
              "      box-shadow: 0px 1px 2px rgba(60, 64, 67, 0.3), 0px 1px 3px 1px rgba(60, 64, 67, 0.15);\n",
              "      fill: #174EA6;\n",
              "    }\n",
              "\n",
              "    [theme=dark] .colab-df-convert {\n",
              "      background-color: #3B4455;\n",
              "      fill: #D2E3FC;\n",
              "    }\n",
              "\n",
              "    [theme=dark] .colab-df-convert:hover {\n",
              "      background-color: #434B5C;\n",
              "      box-shadow: 0px 1px 3px 1px rgba(0, 0, 0, 0.15);\n",
              "      filter: drop-shadow(0px 1px 2px rgba(0, 0, 0, 0.3));\n",
              "      fill: #FFFFFF;\n",
              "    }\n",
              "  </style>\n",
              "\n",
              "      <script>\n",
              "        const buttonEl =\n",
              "          document.querySelector('#df-877719eb-0c2a-4735-8ac3-288cd744772d button.colab-df-convert');\n",
              "        buttonEl.style.display =\n",
              "          google.colab.kernel.accessAllowed ? 'block' : 'none';\n",
              "\n",
              "        async function convertToInteractive(key) {\n",
              "          const element = document.querySelector('#df-877719eb-0c2a-4735-8ac3-288cd744772d');\n",
              "          const dataTable =\n",
              "            await google.colab.kernel.invokeFunction('convertToInteractive',\n",
              "                                                     [key], {});\n",
              "          if (!dataTable) return;\n",
              "\n",
              "          const docLinkHtml = 'Like what you see? Visit the ' +\n",
              "            '<a target=\"_blank\" href=https://colab.research.google.com/notebooks/data_table.ipynb>data table notebook</a>'\n",
              "            + ' to learn more about interactive tables.';\n",
              "          element.innerHTML = '';\n",
              "          dataTable['output_type'] = 'display_data';\n",
              "          await google.colab.output.renderOutput(dataTable, element);\n",
              "          const docLink = document.createElement('div');\n",
              "          docLink.innerHTML = docLinkHtml;\n",
              "          element.appendChild(docLink);\n",
              "        }\n",
              "      </script>\n",
              "    </div>\n",
              "  </div>\n",
              "  "
            ]
          },
          "metadata": {},
          "execution_count": 220
        }
      ]
    },
    {
      "cell_type": "code",
      "source": [
        "data1['sentiment'].value_counts()"
      ],
      "metadata": {
        "colab": {
          "base_uri": "https://localhost:8080/"
        },
        "id": "2CZQqoWLRwue",
        "outputId": "c9225e13-2266-4b49-9c04-0d293c588a96"
      },
      "execution_count": 221,
      "outputs": [
        {
          "output_type": "execute_result",
          "data": {
            "text/plain": [
              "1    710\n",
              "0    553\n",
              "Name: sentiment, dtype: int64"
            ]
          },
          "metadata": {},
          "execution_count": 221
        }
      ]
    },
    {
      "cell_type": "code",
      "source": [
        "y = data1['sentiment']"
      ],
      "metadata": {
        "id": "LZUccrz0eXeZ"
      },
      "execution_count": 222,
      "outputs": []
    },
    {
      "cell_type": "code",
      "source": [
        "xtrain,xtest,ytrain,ytest = train_test_split(df,y, test_size=0.3, stratify = y)"
      ],
      "metadata": {
        "id": "dqw53eP_ifik"
      },
      "execution_count": 223,
      "outputs": []
    },
    {
      "cell_type": "code",
      "source": [
        "print(ytrain.value_counts())\n",
        "print(ytest.value_counts())"
      ],
      "metadata": {
        "colab": {
          "base_uri": "https://localhost:8080/"
        },
        "id": "pVCUzFJSjmC8",
        "outputId": "ffd56ebd-3c51-4771-bfbf-722d9584dcd3"
      },
      "execution_count": 224,
      "outputs": [
        {
          "output_type": "stream",
          "name": "stdout",
          "text": [
            "1    497\n",
            "0    387\n",
            "Name: sentiment, dtype: int64\n",
            "1    213\n",
            "0    166\n",
            "Name: sentiment, dtype: int64\n"
          ]
        }
      ]
    },
    {
      "cell_type": "code",
      "source": [
        "def gen_conf(actual,pred):\n",
        "    classes = [0,1]\n",
        "    cm = confusion_matrix(actual,pred, labels=classes)\n",
        "    sn.heatmap(cm, annot=True)\n",
        "    plt.title(\"Confusion matrix\")\n",
        "    plt.show()"
      ],
      "metadata": {
        "id": "p6Z3x401j6r9"
      },
      "execution_count": 225,
      "outputs": []
    },
    {
      "cell_type": "markdown",
      "source": [
        "## Logistic Regression"
      ],
      "metadata": {
        "id": "vLwbV49YmtjT"
      }
    },
    {
      "cell_type": "code",
      "source": [
        "from sklearn.linear_model import LogisticRegression\n",
        "clf = LogisticRegression(random_state = 0).fit(xtrain,ytrain)\n",
        "pred = clf.predict(xtest)\n",
        "print(classification_report(pred,ytest))\n",
        "gen_conf(ytest,pred)"
      ],
      "metadata": {
        "colab": {
          "base_uri": "https://localhost:8080/",
          "height": 528
        },
        "id": "Omt_baMDjWDj",
        "outputId": "155b0746-bc5b-4c28-e0c8-238712789fe1"
      },
      "execution_count": 226,
      "outputs": [
        {
          "output_type": "stream",
          "name": "stdout",
          "text": [
            "              precision    recall  f1-score   support\n",
            "\n",
            "           0       0.80      0.85      0.82       156\n",
            "           1       0.89      0.85      0.87       223\n",
            "\n",
            "    accuracy                           0.85       379\n",
            "   macro avg       0.84      0.85      0.84       379\n",
            "weighted avg       0.85      0.85      0.85       379\n",
            "\n"
          ]
        },
        {
          "output_type": "display_data",
          "data": {
            "text/plain": [
              "<Figure size 576x396 with 2 Axes>"
            ],
            "image/png": "[encoded data removed]"
          },
          "metadata": {}
        }
      ]
    },
    {
      "cell_type": "markdown",
      "source": [
        "## Naive Bayes"
      ],
      "metadata": {
        "id": "jpYUEdVSmxFD"
      }
    },
    {
      "cell_type": "code",
      "source": [
        "from sklearn.naive_bayes import GaussianNB\n",
        "gnb = GaussianNB()\n",
        "ypred = gnb.fit(xtrain,ytrain).predict(xtest)\n",
        "print(classification_report(ypred,ytest))\n",
        "gen_conf(ytest,ypred)"
      ],
      "metadata": {
        "colab": {
          "base_uri": "https://localhost:8080/",
          "height": 528
        },
        "id": "Bpyvs-vemLhL",
        "outputId": "ff60a246-28ca-4560-b640-1d0f87c247aa"
      },
      "execution_count": 227,
      "outputs": [
        {
          "output_type": "stream",
          "name": "stdout",
          "text": [
            "              precision    recall  f1-score   support\n",
            "\n",
            "           0       0.38      0.82      0.52        77\n",
            "           1       0.93      0.66      0.77       302\n",
            "\n",
            "    accuracy                           0.69       379\n",
            "   macro avg       0.66      0.74      0.65       379\n",
            "weighted avg       0.82      0.69      0.72       379\n",
            "\n"
          ]
        },
        {
          "output_type": "display_data",
          "data": {
            "text/plain": [
              "<Figure size 576x396 with 2 Axes>"
            ],
            "image/png": "[encoded data removed]"
          },
          "metadata": {}
        }
      ]
    },
    {
      "cell_type": "code",
      "source": [
        "print(\"Number of mislabeled points out of a total %d points : %d\"\n",
        "...       % (xtest.shape[0], (ytest != ypred).sum()))"
      ],
      "metadata": {
        "colab": {
          "base_uri": "https://localhost:8080/"
        },
        "id": "xFV7CJHhnmMk",
        "outputId": "c19926af-0a32-48c1-d0df-1ad9ad3b178f"
      },
      "execution_count": 228,
      "outputs": [
        {
          "output_type": "stream",
          "name": "stdout",
          "text": [
            "Number of mislabeled points out of a total 379 points : 117\n"
          ]
        }
      ]
    },
    {
      "cell_type": "markdown",
      "source": [
        "## Decision Tree Classifier"
      ],
      "metadata": {
        "id": "oNCOaVBcqTkd"
      }
    },
    {
      "cell_type": "code",
      "source": [
        "from sklearn.tree import DecisionTreeClassifier\n",
        "dc = DecisionTreeClassifier()\n",
        "pred = dc.fit(xtrain,ytrain).predict(xtest)\n",
        "print(classification_report(pred,ytest))\n",
        "gen_conf(ytest,pred)"
      ],
      "metadata": {
        "colab": {
          "base_uri": "https://localhost:8080/",
          "height": 528
        },
        "id": "aTEmrrfyoKKc",
        "outputId": "98e6e4a6-bd7d-4b64-ccc8-c46da92fae66"
      },
      "execution_count": 229,
      "outputs": [
        {
          "output_type": "stream",
          "name": "stdout",
          "text": [
            "              precision    recall  f1-score   support\n",
            "\n",
            "           0       0.72      0.70      0.71       171\n",
            "           1       0.76      0.78      0.77       208\n",
            "\n",
            "    accuracy                           0.74       379\n",
            "   macro avg       0.74      0.74      0.74       379\n",
            "weighted avg       0.74      0.74      0.74       379\n",
            "\n"
          ]
        },
        {
          "output_type": "display_data",
          "data": {
            "text/plain": [
              "<Figure size 576x396 with 2 Axes>"
            ],
            "image/png": "[encoded data removed]"
          },
          "metadata": {}
        }
      ]
    },
    {
      "cell_type": "markdown",
      "source": [
        "## Support Vector Machine"
      ],
      "metadata": {
        "id": "6qK7OdRgvdEF"
      }
    },
    {
      "cell_type": "code",
      "source": [
        "from sklearn import svm\n",
        "clf = svm.SVC(class_weight = 'balanced')\n",
        "clf.fit(xtrain, ytrain)\n",
        "pred = clf.predict(xtest)\n",
        "print(classification_report(pred,ytest))\n",
        "gen_conf(ytest, pred)"
      ],
      "metadata": {
        "colab": {
          "base_uri": "https://localhost:8080/",
          "height": 528
        },
        "id": "MgHfQu22rkc9",
        "outputId": "73c399b5-eb71-4224-9341-c5c940ba760e"
      },
      "execution_count": 230,
      "outputs": [
        {
          "output_type": "stream",
          "name": "stdout",
          "text": [
            "              precision    recall  f1-score   support\n",
            "\n",
            "           0       0.88      0.75      0.81       194\n",
            "           1       0.77      0.89      0.83       185\n",
            "\n",
            "    accuracy                           0.82       379\n",
            "   macro avg       0.83      0.82      0.82       379\n",
            "weighted avg       0.83      0.82      0.82       379\n",
            "\n"
          ]
        },
        {
          "output_type": "display_data",
          "data": {
            "text/plain": [
              "<Figure size 576x396 with 2 Axes>"
            ],
            "image/png": "[encoded data removed]"
          },
          "metadata": {}
        }
      ]
    },
    {
      "cell_type": "markdown",
      "source": [
        "## K Nearest Neighbour"
      ],
      "metadata": {
        "id": "iveH7s3u0FAn"
      }
    },
    {
      "cell_type": "code",
      "source": [
        "from sklearn.neighbors import KNeighborsClassifier\n",
        "knn = KNeighborsClassifier()\n",
        "knn.fit(xtrain, ytrain)\n",
        "pred = knn.predict(xtest)\n",
        "print(classification_report(pred,ytest))\n",
        "gen_conf(ytest, pred)"
      ],
      "metadata": {
        "colab": {
          "base_uri": "https://localhost:8080/",
          "height": 528
        },
        "id": "Tm4l_t7tvyuW",
        "outputId": "5de6bb7c-e101-48a5-dd81-6dc692b6551b"
      },
      "execution_count": 231,
      "outputs": [
        {
          "output_type": "stream",
          "name": "stdout",
          "text": [
            "              precision    recall  f1-score   support\n",
            "\n",
            "           0       0.62      0.76      0.68       136\n",
            "           1       0.85      0.74      0.79       243\n",
            "\n",
            "    accuracy                           0.75       379\n",
            "   macro avg       0.73      0.75      0.74       379\n",
            "weighted avg       0.76      0.75      0.75       379\n",
            "\n"
          ]
        },
        {
          "output_type": "display_data",
          "data": {
            "text/plain": [
              "<Figure size 576x396 with 2 Axes>"
            ],
            "image/png": "[encoded data removed]"
          },
          "metadata": {}
        }
      ]
    },
    {
      "cell_type": "markdown",
      "source": [
        "## Logistic Regression and Support Vector Machine are Performing well."
      ],
      "metadata": {
        "id": "qOshbdnoq_6C"
      }
    }
  ]
}